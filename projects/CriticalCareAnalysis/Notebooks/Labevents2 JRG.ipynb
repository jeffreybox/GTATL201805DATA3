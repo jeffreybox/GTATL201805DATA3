{
 "cells": [
  {
   "cell_type": "code",
   "execution_count": 1,
   "metadata": {},
   "outputs": [],
   "source": [
    "import pandas as pd"
   ]
  },
  {
   "cell_type": "code",
   "execution_count": 2,
   "metadata": {},
   "outputs": [],
   "source": [
    "hematology = pd.read_csv('../Resources/hematology.csv')\n",
    "chemistry = pd.read_csv('../Resources/chemistry.csv')\n",
    "bloodgas = pd.read_csv('../Resources/blood_gas.csv')"
   ]
  },
  {
   "cell_type": "code",
   "execution_count": 6,
   "metadata": {},
   "outputs": [],
   "source": [
    "hematology_tidy = pd.pivot_table(hematology, index=['SUBJECT_ID','HADM_ID','CHARTTIME'],values='VALUENUM',columns='LABEL')"
   ]
  },
  {
   "cell_type": "code",
   "execution_count": 8,
   "metadata": {},
   "outputs": [],
   "source": [
    "chemistry_tidy = pd.pivot_table(chemistry, index=['SUBJECT_ID','HADM_ID','CHARTTIME'],values='VALUENUM',columns='LABEL')"
   ]
  },
  {
   "cell_type": "code",
   "execution_count": 11,
   "metadata": {},
   "outputs": [],
   "source": [
    "bloodgas_tidy = pd.pivot_table(bloodgas, index=['SUBJECT_ID','HADM_ID','CHARTTIME'],values='VALUENUM',columns='LABEL')"
   ]
  },
  {
   "cell_type": "code",
   "execution_count": 14,
   "metadata": {},
   "outputs": [],
   "source": [
    "data = hematology_tidy"
   ]
  },
  {
   "cell_type": "code",
   "execution_count": 16,
   "metadata": {},
   "outputs": [],
   "source": [
    "data = data.merge(chemistry_tidy, left_index=True, right_index=True, how='outer')"
   ]
  },
  {
   "cell_type": "code",
   "execution_count": 17,
   "metadata": {},
   "outputs": [],
   "source": [
    "data = data.merge(bloodgas_tidy, left_index=True, right_index=True, how='outer')"
   ]
  },
  {
   "cell_type": "code",
   "execution_count": 22,
   "metadata": {},
   "outputs": [],
   "source": [
    "data.to_csv('../Resources/labs.csv')"
   ]
  },
  {
   "cell_type": "code",
   "execution_count": 36,
   "metadata": {},
   "outputs": [
    {
     "data": {
      "text/plain": [
       "(1609114, 244)"
      ]
     },
     "execution_count": 36,
     "metadata": {},
     "output_type": "execute_result"
    }
   ],
   "source": [
    "data.shape"
   ]
  },
  {
   "cell_type": "code",
   "execution_count": 23,
   "metadata": {},
   "outputs": [
    {
     "data": {
      "text/html": [
       "<div>\n",
       "<style scoped>\n",
       "    .dataframe tbody tr th:only-of-type {\n",
       "        vertical-align: middle;\n",
       "    }\n",
       "\n",
       "    .dataframe tbody tr th {\n",
       "        vertical-align: top;\n",
       "    }\n",
       "\n",
       "    .dataframe thead th {\n",
       "        text-align: right;\n",
       "    }\n",
       "</style>\n",
       "<table border=\"1\" class=\"dataframe\">\n",
       "  <thead>\n",
       "    <tr style=\"text-align: right;\">\n",
       "      <th></th>\n",
       "      <th></th>\n",
       "      <th>LABEL</th>\n",
       "      <th>Absolute CD3 Count</th>\n",
       "      <th>Absolute CD4 Count</th>\n",
       "      <th>Absolute CD8 Count</th>\n",
       "      <th>Absolute Lymphocyte Count</th>\n",
       "      <th>Alpha Antiplasmin</th>\n",
       "      <th>Anisocytosis</th>\n",
       "      <th>Anticardiolipin Antibody IgG</th>\n",
       "      <th>Anticardiolipin Antibody IgM</th>\n",
       "      <th>Antithrombin</th>\n",
       "      <th>Atypical Lymphocytes</th>\n",
       "      <th>...</th>\n",
       "      <th>Oxygen Saturation</th>\n",
       "      <th>PEEP</th>\n",
       "      <th>Potassium, Whole Blood</th>\n",
       "      <th>Required O2</th>\n",
       "      <th>Sodium, Whole Blood</th>\n",
       "      <th>Temperature</th>\n",
       "      <th>Tidal Volume</th>\n",
       "      <th>pCO2</th>\n",
       "      <th>pH</th>\n",
       "      <th>pO2</th>\n",
       "    </tr>\n",
       "    <tr>\n",
       "      <th>SUBJECT_ID</th>\n",
       "      <th>HADM_ID</th>\n",
       "      <th>CHARTTIME</th>\n",
       "      <th></th>\n",
       "      <th></th>\n",
       "      <th></th>\n",
       "      <th></th>\n",
       "      <th></th>\n",
       "      <th></th>\n",
       "      <th></th>\n",
       "      <th></th>\n",
       "      <th></th>\n",
       "      <th></th>\n",
       "      <th></th>\n",
       "      <th></th>\n",
       "      <th></th>\n",
       "      <th></th>\n",
       "      <th></th>\n",
       "      <th></th>\n",
       "      <th></th>\n",
       "      <th></th>\n",
       "      <th></th>\n",
       "      <th></th>\n",
       "      <th></th>\n",
       "    </tr>\n",
       "  </thead>\n",
       "  <tbody>\n",
       "    <tr>\n",
       "      <th rowspan=\"3\" valign=\"top\">2</th>\n",
       "      <th rowspan=\"3\" valign=\"top\">163353.0</th>\n",
       "      <th>2138-07-17 20:48:00</th>\n",
       "      <td>NaN</td>\n",
       "      <td>NaN</td>\n",
       "      <td>NaN</td>\n",
       "      <td>NaN</td>\n",
       "      <td>NaN</td>\n",
       "      <td>NaN</td>\n",
       "      <td>NaN</td>\n",
       "      <td>NaN</td>\n",
       "      <td>NaN</td>\n",
       "      <td>0.0</td>\n",
       "      <td>...</td>\n",
       "      <td>NaN</td>\n",
       "      <td>NaN</td>\n",
       "      <td>NaN</td>\n",
       "      <td>NaN</td>\n",
       "      <td>NaN</td>\n",
       "      <td>NaN</td>\n",
       "      <td>NaN</td>\n",
       "      <td>NaN</td>\n",
       "      <td>NaN</td>\n",
       "      <td>NaN</td>\n",
       "    </tr>\n",
       "    <tr>\n",
       "      <th>2138-07-17 21:10:00</th>\n",
       "      <td>NaN</td>\n",
       "      <td>NaN</td>\n",
       "      <td>NaN</td>\n",
       "      <td>NaN</td>\n",
       "      <td>NaN</td>\n",
       "      <td>NaN</td>\n",
       "      <td>NaN</td>\n",
       "      <td>NaN</td>\n",
       "      <td>NaN</td>\n",
       "      <td>0.0</td>\n",
       "      <td>...</td>\n",
       "      <td>NaN</td>\n",
       "      <td>NaN</td>\n",
       "      <td>NaN</td>\n",
       "      <td>NaN</td>\n",
       "      <td>NaN</td>\n",
       "      <td>NaN</td>\n",
       "      <td>NaN</td>\n",
       "      <td>NaN</td>\n",
       "      <td>NaN</td>\n",
       "      <td>NaN</td>\n",
       "    </tr>\n",
       "    <tr>\n",
       "      <th>2138-07-20 06:30:00</th>\n",
       "      <td>NaN</td>\n",
       "      <td>NaN</td>\n",
       "      <td>NaN</td>\n",
       "      <td>NaN</td>\n",
       "      <td>NaN</td>\n",
       "      <td>NaN</td>\n",
       "      <td>NaN</td>\n",
       "      <td>NaN</td>\n",
       "      <td>NaN</td>\n",
       "      <td>NaN</td>\n",
       "      <td>...</td>\n",
       "      <td>NaN</td>\n",
       "      <td>NaN</td>\n",
       "      <td>NaN</td>\n",
       "      <td>NaN</td>\n",
       "      <td>NaN</td>\n",
       "      <td>NaN</td>\n",
       "      <td>NaN</td>\n",
       "      <td>NaN</td>\n",
       "      <td>NaN</td>\n",
       "      <td>NaN</td>\n",
       "    </tr>\n",
       "    <tr>\n",
       "      <th rowspan=\"2\" valign=\"top\">3</th>\n",
       "      <th rowspan=\"2\" valign=\"top\">145834.0</th>\n",
       "      <th>2101-10-20 16:40:00</th>\n",
       "      <td>NaN</td>\n",
       "      <td>NaN</td>\n",
       "      <td>NaN</td>\n",
       "      <td>NaN</td>\n",
       "      <td>NaN</td>\n",
       "      <td>NaN</td>\n",
       "      <td>NaN</td>\n",
       "      <td>NaN</td>\n",
       "      <td>NaN</td>\n",
       "      <td>0.0</td>\n",
       "      <td>...</td>\n",
       "      <td>NaN</td>\n",
       "      <td>NaN</td>\n",
       "      <td>NaN</td>\n",
       "      <td>NaN</td>\n",
       "      <td>NaN</td>\n",
       "      <td>NaN</td>\n",
       "      <td>NaN</td>\n",
       "      <td>NaN</td>\n",
       "      <td>NaN</td>\n",
       "      <td>NaN</td>\n",
       "    </tr>\n",
       "    <tr>\n",
       "      <th>2101-10-20 16:49:00</th>\n",
       "      <td>NaN</td>\n",
       "      <td>NaN</td>\n",
       "      <td>NaN</td>\n",
       "      <td>NaN</td>\n",
       "      <td>NaN</td>\n",
       "      <td>NaN</td>\n",
       "      <td>NaN</td>\n",
       "      <td>NaN</td>\n",
       "      <td>NaN</td>\n",
       "      <td>NaN</td>\n",
       "      <td>...</td>\n",
       "      <td>NaN</td>\n",
       "      <td>NaN</td>\n",
       "      <td>NaN</td>\n",
       "      <td>NaN</td>\n",
       "      <td>NaN</td>\n",
       "      <td>NaN</td>\n",
       "      <td>NaN</td>\n",
       "      <td>NaN</td>\n",
       "      <td>NaN</td>\n",
       "      <td>NaN</td>\n",
       "    </tr>\n",
       "  </tbody>\n",
       "</table>\n",
       "<p>5 rows × 244 columns</p>\n",
       "</div>"
      ],
      "text/plain": [
       "LABEL                                    Absolute CD3 Count  \\\n",
       "SUBJECT_ID HADM_ID  CHARTTIME                                 \n",
       "2          163353.0 2138-07-17 20:48:00                 NaN   \n",
       "                    2138-07-17 21:10:00                 NaN   \n",
       "                    2138-07-20 06:30:00                 NaN   \n",
       "3          145834.0 2101-10-20 16:40:00                 NaN   \n",
       "                    2101-10-20 16:49:00                 NaN   \n",
       "\n",
       "LABEL                                    Absolute CD4 Count  \\\n",
       "SUBJECT_ID HADM_ID  CHARTTIME                                 \n",
       "2          163353.0 2138-07-17 20:48:00                 NaN   \n",
       "                    2138-07-17 21:10:00                 NaN   \n",
       "                    2138-07-20 06:30:00                 NaN   \n",
       "3          145834.0 2101-10-20 16:40:00                 NaN   \n",
       "                    2101-10-20 16:49:00                 NaN   \n",
       "\n",
       "LABEL                                    Absolute CD8 Count  \\\n",
       "SUBJECT_ID HADM_ID  CHARTTIME                                 \n",
       "2          163353.0 2138-07-17 20:48:00                 NaN   \n",
       "                    2138-07-17 21:10:00                 NaN   \n",
       "                    2138-07-20 06:30:00                 NaN   \n",
       "3          145834.0 2101-10-20 16:40:00                 NaN   \n",
       "                    2101-10-20 16:49:00                 NaN   \n",
       "\n",
       "LABEL                                    Absolute Lymphocyte Count  \\\n",
       "SUBJECT_ID HADM_ID  CHARTTIME                                        \n",
       "2          163353.0 2138-07-17 20:48:00                        NaN   \n",
       "                    2138-07-17 21:10:00                        NaN   \n",
       "                    2138-07-20 06:30:00                        NaN   \n",
       "3          145834.0 2101-10-20 16:40:00                        NaN   \n",
       "                    2101-10-20 16:49:00                        NaN   \n",
       "\n",
       "LABEL                                    Alpha Antiplasmin  Anisocytosis  \\\n",
       "SUBJECT_ID HADM_ID  CHARTTIME                                              \n",
       "2          163353.0 2138-07-17 20:48:00                NaN           NaN   \n",
       "                    2138-07-17 21:10:00                NaN           NaN   \n",
       "                    2138-07-20 06:30:00                NaN           NaN   \n",
       "3          145834.0 2101-10-20 16:40:00                NaN           NaN   \n",
       "                    2101-10-20 16:49:00                NaN           NaN   \n",
       "\n",
       "LABEL                                    Anticardiolipin Antibody IgG  \\\n",
       "SUBJECT_ID HADM_ID  CHARTTIME                                           \n",
       "2          163353.0 2138-07-17 20:48:00                           NaN   \n",
       "                    2138-07-17 21:10:00                           NaN   \n",
       "                    2138-07-20 06:30:00                           NaN   \n",
       "3          145834.0 2101-10-20 16:40:00                           NaN   \n",
       "                    2101-10-20 16:49:00                           NaN   \n",
       "\n",
       "LABEL                                    Anticardiolipin Antibody IgM  \\\n",
       "SUBJECT_ID HADM_ID  CHARTTIME                                           \n",
       "2          163353.0 2138-07-17 20:48:00                           NaN   \n",
       "                    2138-07-17 21:10:00                           NaN   \n",
       "                    2138-07-20 06:30:00                           NaN   \n",
       "3          145834.0 2101-10-20 16:40:00                           NaN   \n",
       "                    2101-10-20 16:49:00                           NaN   \n",
       "\n",
       "LABEL                                    Antithrombin  Atypical Lymphocytes  \\\n",
       "SUBJECT_ID HADM_ID  CHARTTIME                                                 \n",
       "2          163353.0 2138-07-17 20:48:00           NaN                   0.0   \n",
       "                    2138-07-17 21:10:00           NaN                   0.0   \n",
       "                    2138-07-20 06:30:00           NaN                   NaN   \n",
       "3          145834.0 2101-10-20 16:40:00           NaN                   0.0   \n",
       "                    2101-10-20 16:49:00           NaN                   NaN   \n",
       "\n",
       "LABEL                                   ...   Oxygen Saturation  PEEP  \\\n",
       "SUBJECT_ID HADM_ID  CHARTTIME           ...                             \n",
       "2          163353.0 2138-07-17 20:48:00 ...                 NaN   NaN   \n",
       "                    2138-07-17 21:10:00 ...                 NaN   NaN   \n",
       "                    2138-07-20 06:30:00 ...                 NaN   NaN   \n",
       "3          145834.0 2101-10-20 16:40:00 ...                 NaN   NaN   \n",
       "                    2101-10-20 16:49:00 ...                 NaN   NaN   \n",
       "\n",
       "LABEL                                    Potassium, Whole Blood  Required O2  \\\n",
       "SUBJECT_ID HADM_ID  CHARTTIME                                                  \n",
       "2          163353.0 2138-07-17 20:48:00                     NaN          NaN   \n",
       "                    2138-07-17 21:10:00                     NaN          NaN   \n",
       "                    2138-07-20 06:30:00                     NaN          NaN   \n",
       "3          145834.0 2101-10-20 16:40:00                     NaN          NaN   \n",
       "                    2101-10-20 16:49:00                     NaN          NaN   \n",
       "\n",
       "LABEL                                    Sodium, Whole Blood  Temperature  \\\n",
       "SUBJECT_ID HADM_ID  CHARTTIME                                               \n",
       "2          163353.0 2138-07-17 20:48:00                  NaN          NaN   \n",
       "                    2138-07-17 21:10:00                  NaN          NaN   \n",
       "                    2138-07-20 06:30:00                  NaN          NaN   \n",
       "3          145834.0 2101-10-20 16:40:00                  NaN          NaN   \n",
       "                    2101-10-20 16:49:00                  NaN          NaN   \n",
       "\n",
       "LABEL                                    Tidal Volume  pCO2  pH  pO2  \n",
       "SUBJECT_ID HADM_ID  CHARTTIME                                         \n",
       "2          163353.0 2138-07-17 20:48:00           NaN   NaN NaN  NaN  \n",
       "                    2138-07-17 21:10:00           NaN   NaN NaN  NaN  \n",
       "                    2138-07-20 06:30:00           NaN   NaN NaN  NaN  \n",
       "3          145834.0 2101-10-20 16:40:00           NaN   NaN NaN  NaN  \n",
       "                    2101-10-20 16:49:00           NaN   NaN NaN  NaN  \n",
       "\n",
       "[5 rows x 244 columns]"
      ]
     },
     "execution_count": 23,
     "metadata": {},
     "output_type": "execute_result"
    }
   ],
   "source": [
    "data.head()"
   ]
  },
  {
   "cell_type": "code",
   "execution_count": 25,
   "metadata": {},
   "outputs": [
    {
     "data": {
      "text/plain": [
       "27"
      ]
     },
     "execution_count": 25,
     "metadata": {},
     "output_type": "execute_result"
    }
   ],
   "source": [
    "len(set(bloodgas['LABEL']))"
   ]
  },
  {
   "cell_type": "code",
   "execution_count": 26,
   "metadata": {},
   "outputs": [
    {
     "data": {
      "text/plain": [
       "173"
      ]
     },
     "execution_count": 26,
     "metadata": {},
     "output_type": "execute_result"
    }
   ],
   "source": [
    "len(set(hematology['LABEL']))"
   ]
  },
  {
   "cell_type": "code",
   "execution_count": 27,
   "metadata": {},
   "outputs": [
    {
     "data": {
      "text/plain": [
       "154"
      ]
     },
     "execution_count": 27,
     "metadata": {},
     "output_type": "execute_result"
    }
   ],
   "source": [
    "len(set(chemistry['LABEL']))"
   ]
  },
  {
   "cell_type": "code",
   "execution_count": 28,
   "metadata": {},
   "outputs": [],
   "source": [
    "tests = ['Chloride, Whole Blood','Glucose', 'Hematocrit, Calculated', 'Hemoglobin','Lactate', 'Potassium, Whole Blood', \n",
    "         'Sodium, Whole Blood', 'Anion Gap', 'Albumin','Bicarbonate', 'Bilirubin, Total', 'Creatinine', 'Chloride', \n",
    "         'Glucose', 'Magnesium','Phosphate', 'Potassium', 'Sodium', 'Urea Nitrogen', 'Hematocrit', 'Hemoglobin',\n",
    "         'Platelet Count', 'PTT', 'INR(PT)', 'PT', 'White Blood Cells']"
   ]
  },
  {
   "cell_type": "code",
   "execution_count": 29,
   "metadata": {},
   "outputs": [],
   "source": [
    "df = pd.concat([hematology,chemistry,bloodgas], ignore_index=True)"
   ]
  },
  {
   "cell_type": "code",
   "execution_count": 30,
   "metadata": {},
   "outputs": [
    {
     "data": {
      "text/html": [
       "<div>\n",
       "<style scoped>\n",
       "    .dataframe tbody tr th:only-of-type {\n",
       "        vertical-align: middle;\n",
       "    }\n",
       "\n",
       "    .dataframe tbody tr th {\n",
       "        vertical-align: top;\n",
       "    }\n",
       "\n",
       "    .dataframe thead th {\n",
       "        text-align: right;\n",
       "    }\n",
       "</style>\n",
       "<table border=\"1\" class=\"dataframe\">\n",
       "  <thead>\n",
       "    <tr style=\"text-align: right;\">\n",
       "      <th></th>\n",
       "      <th>Unnamed: 0</th>\n",
       "      <th>SUBJECT_ID</th>\n",
       "      <th>HADM_ID</th>\n",
       "      <th>CHARTTIME</th>\n",
       "      <th>VALUENUM</th>\n",
       "      <th>LABEL</th>\n",
       "    </tr>\n",
       "  </thead>\n",
       "  <tbody>\n",
       "    <tr>\n",
       "      <th>0</th>\n",
       "      <td>11866885</td>\n",
       "      <td>3</td>\n",
       "      <td>NaN</td>\n",
       "      <td>2101-10-13 03:00:00</td>\n",
       "      <td>30.3</td>\n",
       "      <td>Hematocrit</td>\n",
       "    </tr>\n",
       "    <tr>\n",
       "      <th>1</th>\n",
       "      <td>11866886</td>\n",
       "      <td>3</td>\n",
       "      <td>NaN</td>\n",
       "      <td>2101-10-14 03:00:00</td>\n",
       "      <td>30.5</td>\n",
       "      <td>Hematocrit</td>\n",
       "    </tr>\n",
       "    <tr>\n",
       "      <th>2</th>\n",
       "      <td>11866887</td>\n",
       "      <td>3</td>\n",
       "      <td>NaN</td>\n",
       "      <td>2101-10-15 03:30:00</td>\n",
       "      <td>29.2</td>\n",
       "      <td>Hematocrit</td>\n",
       "    </tr>\n",
       "    <tr>\n",
       "      <th>3</th>\n",
       "      <td>11866888</td>\n",
       "      <td>3</td>\n",
       "      <td>NaN</td>\n",
       "      <td>2101-10-16 04:00:00</td>\n",
       "      <td>29.2</td>\n",
       "      <td>Hematocrit</td>\n",
       "    </tr>\n",
       "    <tr>\n",
       "      <th>4</th>\n",
       "      <td>11866889</td>\n",
       "      <td>3</td>\n",
       "      <td>145834.0</td>\n",
       "      <td>2101-10-22 04:00:00</td>\n",
       "      <td>28.6</td>\n",
       "      <td>Hematocrit</td>\n",
       "    </tr>\n",
       "  </tbody>\n",
       "</table>\n",
       "</div>"
      ],
      "text/plain": [
       "   Unnamed: 0  SUBJECT_ID   HADM_ID            CHARTTIME  VALUENUM       LABEL\n",
       "0    11866885           3       NaN  2101-10-13 03:00:00      30.3  Hematocrit\n",
       "1    11866886           3       NaN  2101-10-14 03:00:00      30.5  Hematocrit\n",
       "2    11866887           3       NaN  2101-10-15 03:30:00      29.2  Hematocrit\n",
       "3    11866888           3       NaN  2101-10-16 04:00:00      29.2  Hematocrit\n",
       "4    11866889           3  145834.0  2101-10-22 04:00:00      28.6  Hematocrit"
      ]
     },
     "execution_count": 30,
     "metadata": {},
     "output_type": "execute_result"
    }
   ],
   "source": [
    "df.head()"
   ]
  },
  {
   "cell_type": "code",
   "execution_count": 31,
   "metadata": {},
   "outputs": [
    {
     "data": {
      "text/plain": [
       "25341470"
      ]
     },
     "execution_count": 31,
     "metadata": {},
     "output_type": "execute_result"
    }
   ],
   "source": [
    "len(df)"
   ]
  },
  {
   "cell_type": "code",
   "execution_count": 32,
   "metadata": {},
   "outputs": [],
   "source": [
    "df = df[df['LABEL'].isin(tests)]"
   ]
  },
  {
   "cell_type": "code",
   "execution_count": 33,
   "metadata": {},
   "outputs": [
    {
     "data": {
      "text/plain": [
       "13434684"
      ]
     },
     "execution_count": 33,
     "metadata": {},
     "output_type": "execute_result"
    }
   ],
   "source": [
    "len(df)"
   ]
  },
  {
   "cell_type": "code",
   "execution_count": 34,
   "metadata": {},
   "outputs": [
    {
     "data": {
      "text/plain": [
       "26"
      ]
     },
     "execution_count": 34,
     "metadata": {},
     "output_type": "execute_result"
    }
   ],
   "source": [
    "len(tests)"
   ]
  },
  {
   "cell_type": "code",
   "execution_count": 35,
   "metadata": {},
   "outputs": [
    {
     "data": {
      "text/plain": [
       "24"
      ]
     },
     "execution_count": 35,
     "metadata": {},
     "output_type": "execute_result"
    }
   ],
   "source": [
    "len(set(df['LABEL']))"
   ]
  },
  {
   "cell_type": "code",
   "execution_count": 37,
   "metadata": {},
   "outputs": [],
   "source": [
    "df_tidy = pd.pivot_table(df, index=['SUBJECT_ID','HADM_ID','CHARTTIME'],values='VALUENUM',columns='LABEL')"
   ]
  },
  {
   "cell_type": "code",
   "execution_count": 38,
   "metadata": {},
   "outputs": [
    {
     "data": {
      "text/plain": [
       "(1296447, 24)"
      ]
     },
     "execution_count": 38,
     "metadata": {},
     "output_type": "execute_result"
    }
   ],
   "source": [
    "df_tidy.shape"
   ]
  },
  {
   "cell_type": "code",
   "execution_count": 39,
   "metadata": {},
   "outputs": [],
   "source": [
    "df_tidy.to_csv('../Resources/labs.csv')"
   ]
  },
  {
   "cell_type": "code",
   "execution_count": 44,
   "metadata": {},
   "outputs": [
    {
     "data": {
      "text/plain": [
       "set()"
      ]
     },
     "execution_count": 44,
     "metadata": {},
     "output_type": "execute_result"
    }
   ],
   "source": [
    "set(tests)-set(df['LABEL'])"
   ]
  },
  {
   "cell_type": "code",
   "execution_count": 47,
   "metadata": {},
   "outputs": [
    {
     "data": {
      "text/plain": [
       "24"
      ]
     },
     "execution_count": 47,
     "metadata": {},
     "output_type": "execute_result"
    }
   ],
   "source": [
    "len(set(tests))"
   ]
  },
  {
   "cell_type": "code",
   "execution_count": 49,
   "metadata": {},
   "outputs": [
    {
     "data": {
      "text/plain": [
       "Hemoglobin                2\n",
       "Glucose                   2\n",
       "Lactate                   1\n",
       "Hematocrit, Calculated    1\n",
       "Potassium, Whole Blood    1\n",
       "PT                        1\n",
       "Chloride, Whole Blood     1\n",
       "Sodium                    1\n",
       "Anion Gap                 1\n",
       "Bilirubin, Total          1\n",
       "Phosphate                 1\n",
       "Bicarbonate               1\n",
       "Urea Nitrogen             1\n",
       "Platelet Count            1\n",
       "Potassium                 1\n",
       "White Blood Cells         1\n",
       "INR(PT)                   1\n",
       "Albumin                   1\n",
       "PTT                       1\n",
       "Chloride                  1\n",
       "Sodium, Whole Blood       1\n",
       "Creatinine                1\n",
       "Hematocrit                1\n",
       "Magnesium                 1\n",
       "dtype: int64"
      ]
     },
     "execution_count": 49,
     "metadata": {},
     "output_type": "execute_result"
    }
   ],
   "source": [
    "pd.Series(tests).value_counts()"
   ]
  },
  {
   "cell_type": "code",
   "execution_count": null,
   "metadata": {},
   "outputs": [],
   "source": []
  }
 ],
 "metadata": {
  "kernelspec": {
   "display_name": "Python [conda env:PythonData]",
   "language": "python",
   "name": "conda-env-PythonData-py"
  },
  "language_info": {
   "codemirror_mode": {
    "name": "ipython",
    "version": 3
   },
   "file_extension": ".py",
   "mimetype": "text/x-python",
   "name": "python",
   "nbconvert_exporter": "python",
   "pygments_lexer": "ipython3",
   "version": "3.6.7"
  }
 },
 "nbformat": 4,
 "nbformat_minor": 2
}
