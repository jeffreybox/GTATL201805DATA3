{
 "cells": [
  {
   "cell_type": "code",
   "execution_count": null,
   "metadata": {
    "collapsed": true
   },
   "outputs": [],
   "source": [
    "# Dependencies\n",
    "import tweepy\n",
    "import json\n",
    "import pandas as pd\n",
    "from config import consumer_key, consumer_secret, access_token, access_token_secret\n",
    "# Your Twitter API Keys\n",
    "\n",
    "\n",
    "# Setup Tweepy API Authentication\n",
    "auth = tweepy.OAuthHandler(consumer_key, consumer_secret)\n",
    "auth.set_access_token(access_token, access_token_secret)\n",
    "api = tweepy.API(auth, parser=tweepy.parsers.JSONParser())"
   ]
  },
  {
   "cell_type": "code",
   "execution_count": null,
   "metadata": {
    "collapsed": true
   },
   "outputs": [],
   "source": [
    "# Import CSV file into Data Frame\n",
    "popular_tweeters = pd.read_csv(\"../Resources/PopularAccounts.csv\", dtype=str)\n",
    "\n",
    "# Iterate through DataFrame\n",
    "for index, row in popular_tweeters.iterrows():\n",
    "    \n",
    "    # Error handling\n",
    "    try:\n",
    "        # Grab the username\n",
    "        target_user = row[\"Screen Name\"]\n",
    "        # print(target_user)\n",
    "\n",
    "        # Use the username with the Twitter API get_user\n",
    "        user_account = api.get_user(target_user)\n",
    "        user_real_name = user_account[\"name\"]\n",
    "\n",
    "        # Get the specific column data\n",
    "        user_tweets = user_account[\"statuses_count\"]\n",
    "        # Do the same for \"followers_count\", \"friends_count\", and \"favourites_count\"\n",
    "\n",
    "        # Replace the row information for each\n",
    "        popular_tweeters.at[index, \"Real Name\"] = user_real_name\n",
    "        # Do the same for \"Tweets\", \"Followers\", \"Following, and \"Favorites Count\"\n",
    "    \n",
    "    # If an error is encountered, move on with the next iteration of the loop\n",
    "    except:\n",
    "        continue\n",
    "        \n",
    "# Export the new CSV as \"PopularAccounts_New.csv\"\n",
    "# Hint: use the to.csv() method\n",
    "    \n",
    "# View the DataFrame\n",
    "# Hint: use the head() method"
   ]
  },
  {
   "cell_type": "code",
   "execution_count": null,
   "metadata": {
    "collapsed": true
   },
   "outputs": [],
   "source": [
    "# Calculate Averages of the following: \"Tweets\"; \"Followers\"; \"Follwing\"; \"Favorites Count\"\n",
    "# See \"Create DataFrame\" below for the variable names you should use\n",
    "average_tweet_count = popular_tweeters[\"Tweets\"].mean()\n",
    "\n",
    "# Create DataFrame\n",
    "averages = {\"Average Tweet Count\": average_tweet_count, \n",
    "            \"Average Follower Count\": average_followers, \n",
    "            \"Average Following Count\": average_following_count,\n",
    "            \"Average Favorites Count\": average_favorites_count}\n",
    "\n",
    "# Create a Dataframe of the averages"
   ]
  }
 ],
 "metadata": {
  "anaconda-cloud": {},
  "kernelspec": {
   "display_name": "Python [default]",
   "language": "python",
   "name": "python3"
  },
  "language_info": {
   "codemirror_mode": {
    "name": "ipython",
    "version": 3
   },
   "file_extension": ".py",
   "mimetype": "text/x-python",
   "name": "python",
   "nbconvert_exporter": "python",
   "pygments_lexer": "ipython3",
   "version": "3.6.1"
  }
 },
 "nbformat": 4,
 "nbformat_minor": 1
}
