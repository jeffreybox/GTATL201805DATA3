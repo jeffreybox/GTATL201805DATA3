{
 "cells": [
  {
   "cell_type": "code",
   "execution_count": 1,
   "metadata": {
    "collapsed": true
   },
   "outputs": [],
   "source": [
    "# Dependencies\n",
    "import tweepy\n",
    "import json\n",
    "from config import consumer_key, consumer_secret, access_token, access_token_secret\n",
    "\n",
    "# Setup Tweepy API Authentication\n",
    "auth = tweepy.OAuthHandler(consumer_key, consumer_secret)\n",
    "auth.set_access_token(access_token, access_token_secret)\n",
    "api = tweepy.API(auth, parser=tweepy.parsers.JSONParser())"
   ]
  },
  {
   "cell_type": "code",
   "execution_count": 2,
   "metadata": {},
   "outputs": [
    {
     "name": "stdout",
     "output_type": "stream",
     "text": [
      "University vice-chancellors are paid far more than public sector peers https://t.co/0esFPW4vlw @RichardA… https://t.co/d9mpC6Zjtv\n",
      "Hundreds of mental health patients dying after NHS care failures #ddj https://t.co/6dGVFnQ6xK\n",
      "What is the gender pay gap and what do the figures mean? https://t.co/Mu0jJoT0t0\n",
      "Gender pay gap: what we learned this week https://t.co/ZllTjSfMpu\n",
      "Jacob Rees-Mogg and the shadowy group of Tories shaping Brexit https://t.co/MvHGDSMRpm\n",
      "We're hiring a data journalist - come work with us on the data projects team! https://t.co/oDxZb4sZxf\n",
      "Interested in data journalism? Apply for work experience on the data projects team - closing date December 17th https://t.co/DPz7f5SgRM #ddj\n",
      "UK universities accused of complacency over sexual misconduct https://t.co/v7298shbKp\n",
      "Perception gap: survey reveals how we overestimate the bad stuff. Take the test and see how you fare.… https://t.co/7004Rz7vmx\n",
      "How Scotland reduced knife deaths among young people https://t.co/2h6p5VtYUD\n",
      "Children in poor areas exposed to five times as many fast food takeaways https://t.co/J6iCNjQRJD\n",
      "Beyond the Blade: our search for data exposed the poverty of the knife crime debate https://t.co/1bfU7rt1k5\n",
      "Child knife deaths in England and Wales set for nine-year peak data obtained by the Guardian shows https://t.co/dLpVkLzTm2\n",
      "British Library project discovers two new words – thanks to Guardian readers https://t.co/6rpAifq23Y\n",
      "Russian 'troll army' tweets cited more than 80 times in UK media #ddj https://t.co/WAdGT4fGxZ\n",
      "@duncan3ross We will in the v near future. In the meantime the data was released under FOI and should be available… https://t.co/c5TAbU21ul\n",
      "Brexit vote creates surge in  EU citizenship applications by @PorcelinaD https://t.co/hd7PjorLpc\n",
      "Ethnic minorities face huge disparities compared to white  counterparts according to government stats #raceaudit… https://t.co/tSOpPjhHOK\n",
      "Male speakers outnumbered women by two-to-one on fringe panels at the Conservative party conference.… https://t.co/D7PfOHiRhg\n",
      "Number of working mothers in England rises by a million in 20 years by @sweale &amp; @caelainnbarr https://t.co/IJBDUaHVtQ\n"
     ]
    }
   ],
   "source": [
    "# Target User\n",
    "target_user = \"GuardianData\"\n",
    "\n",
    "# Tweet Texts\n",
    "tweet_texts = []\n",
    "\n",
    "# Get all tweets from home feed\n",
    "public_tweets = api.user_timeline(target_user)\n",
    "\n",
    "# Loop through all tweets\n",
    "for tweet in public_tweets:\n",
    "\n",
    "    # Print Tweet\n",
    "    print(tweet[\"text\"])\n",
    "\n",
    "    # Store Tweet in Array\n",
    "    tweet_texts.append(tweet[\"text\"])"
   ]
  },
  {
   "cell_type": "code",
   "execution_count": 3,
   "metadata": {},
   "outputs": [
    {
     "name": "stdout",
     "output_type": "stream",
     "text": [
      "Tweet Count: 20\n"
     ]
    }
   ],
   "source": [
    "# Print the Tweet Count\n",
    "print(f\"Tweet Count: {len(tweet_texts)}\")"
   ]
  }
 ],
 "metadata": {
  "kernelspec": {
   "display_name": "Python [default]",
   "language": "python",
   "name": "python3"
  },
  "language_info": {
   "codemirror_mode": {
    "name": "ipython",
    "version": 3
   },
   "file_extension": ".py",
   "mimetype": "text/x-python",
   "name": "python",
   "nbconvert_exporter": "python",
   "pygments_lexer": "ipython3",
   "version": "3.6.1"
  },
  "varInspector": {
   "cols": {
    "lenName": 16,
    "lenType": 16,
    "lenVar": 40
   },
   "kernels_config": {
    "python": {
     "delete_cmd_postfix": "",
     "delete_cmd_prefix": "del ",
     "library": "var_list.py",
     "varRefreshCmd": "print(var_dic_list())"
    },
    "r": {
     "delete_cmd_postfix": ") ",
     "delete_cmd_prefix": "rm(",
     "library": "var_list.r",
     "varRefreshCmd": "cat(var_dic_list()) "
    }
   },
   "types_to_exclude": [
    "module",
    "function",
    "builtin_function_or_method",
    "instance",
    "_Feature"
   ],
   "window_display": false
  }
 },
 "nbformat": 4,
 "nbformat_minor": 2
}
