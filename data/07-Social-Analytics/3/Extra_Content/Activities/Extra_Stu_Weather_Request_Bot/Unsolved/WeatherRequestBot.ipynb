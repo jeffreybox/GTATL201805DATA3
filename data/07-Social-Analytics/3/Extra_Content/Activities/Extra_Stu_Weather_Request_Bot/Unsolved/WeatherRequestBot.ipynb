{
 "cells": [
  {
   "cell_type": "code",
   "execution_count": null,
   "metadata": {
    "collapsed": true
   },
   "outputs": [],
   "source": [
    "# Dependencies\n",
    "import tweepy\n",
    "import time\n",
    "import json\n",
    "import random\n",
    "import requests as req\n",
    "import datetime\n",
    "from config import consumer_key, consumer_secret, access_token, access_token_secret, weather_api"
   ]
  },
  {
   "cell_type": "code",
   "execution_count": null,
   "metadata": {
    "collapsed": true
   },
   "outputs": [],
   "source": [
    "# Twitter API Keys\n",
    "consumer_key = consumer_key\n",
    "consumer_secret = consumer_secret\n",
    "access_token = access_token\n",
    "access_token_secret = access_token_secret"
   ]
  },
  {
   "cell_type": "code",
   "execution_count": null,
   "metadata": {
    "collapsed": true
   },
   "outputs": [],
   "source": [
    "# Weather API\n",
    "weather_api_key = weather_api"
   ]
  },
  {
   "cell_type": "code",
   "execution_count": null,
   "metadata": {
    "collapsed": true
   },
   "outputs": [],
   "source": [
    "# Target Term\n",
    "target_term = \"@RiversCuomo\""
   ]
  },
  {
   "cell_type": "code",
   "execution_count": null,
   "metadata": {
    "collapsed": true
   },
   "outputs": [],
   "source": [
    "# Create a function that checks for tweets sent to the account,\n",
    "# parses for hashtags, then responds with the weather.\n",
    "def WeatherTweet():\n",
    "\n",
    "    # Twitter credentials\n",
    "    auth = tweepy.OAuthHandler(consumer_key, consumer_secret)\n",
    "    auth.set_access_token(access_token, access_token_secret)\n",
    "    api = tweepy.API(auth, parser=tweepy.parsers.JSONParser())\n",
    "\n",
    "    # Create a variable for storing the requested hashtag\n",
    "    hashtag = \"\"\n",
    "\n",
    "    # Search for most recent tweet directed to the account\n",
    "    public_tweets = api.search(target_term, count=1, result_type=\"recent\")\n",
    "\n",
    "    # Extract hashtag from tweet directed to the account\n",
    "    \n",
    "\n",
    "        # Print tweet in JSON\n",
    "  \n",
    "\n",
    "        # Print tweet text\n",
    "\n",
    "\n",
    "        # Loop through all hashtags and print each one included\n",
    "\n",
    "\n",
    "            # Store the hashtag\n",
    "\n",
    "\n",
    "            # Print the hashtag for display\n",
    "\n",
    "\n",
    "    # Utilize the hashtag to construct a Query URL for the OpenWeatherMap\n",
    "\n",
    "    url = \"http://api.openweathermap.org/data/2.5/weather?\"\n",
    "    city = hashtag\n",
    "    units = \"imperial\"\n",
    "    query_url = url + \"appid=\" + weather_api_key + \"&q=\" + city + \"&units=\" + units\n",
    "\n",
    "    # Perform the API call to get the weather\n",
    "    weather_response = req.get(query_url)\n",
    "    weather_json = weather_response.json()\n",
    "    print(weather_json)\n",
    "\n",
    "    # Tweet the weather\n",
    "    api.update_status(\n",
    "        \"%s weather as of %s: %s F\" %\n",
    "        (hashtag,\n",
    "         datetime.datetime.now().strftime(\"%I:%M %p\"),\n",
    "         weather_json[\"main\"][\"temp\"]))\n",
    "\n",
    "    # Print success message\n",
    "    print(\"Tweeted successfully!\")"
   ]
  },
  {
   "cell_type": "code",
   "execution_count": null,
   "metadata": {
    "collapsed": true
   },
   "outputs": [],
   "source": [
    "# Set timer to run every 1 minute\n",
    "while(True):\n",
    "    WeatherTweet()\n",
    "    time.sleep(60)"
   ]
  },
  {
   "cell_type": "code",
   "execution_count": null,
   "metadata": {
    "collapsed": true
   },
   "outputs": [],
   "source": []
  }
 ],
 "metadata": {
  "kernelspec": {
   "display_name": "Python [conda env:anaconda]",
   "language": "python",
   "name": "conda-env-anaconda-py"
  },
  "language_info": {
   "codemirror_mode": {
    "name": "ipython",
    "version": 3
   },
   "file_extension": ".py",
   "mimetype": "text/x-python",
   "name": "python",
   "nbconvert_exporter": "python",
   "pygments_lexer": "ipython3",
   "version": "3.5.5"
  }
 },
 "nbformat": 4,
 "nbformat_minor": 2
}
