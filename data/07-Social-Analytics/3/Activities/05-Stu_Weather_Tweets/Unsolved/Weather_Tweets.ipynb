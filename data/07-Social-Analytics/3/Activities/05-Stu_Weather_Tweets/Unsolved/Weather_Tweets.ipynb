{
  "cells": [
    {
      "cell_type": "code",
      "source": [
        "# Dependencies\n",
        "import tweepy\n",
        "import time\n",
        "import json\n",
        "import random\n",
        "import requests as req\n",
        "import datetime\n",
        "from config import consumer_key, consumer_secret, access_token, access_token_secret, weather_api_key"
      ],
      "outputs": [],
      "execution_count": null,
      "metadata": {
        "collapsed": true
      }
    },
    {
      "cell_type": "code",
      "source": [
        "# Twitter API Keys\n",
        "consumer_key = consumer_key\n",
        "consumer_secret = consumer_secret\n",
        "access_token = access_token\n",
        "access_token_secret = access_token_secret"
      ],
      "outputs": [],
      "execution_count": null,
      "metadata": {
        "collapsed": true
      }
    },
    {
      "cell_type": "code",
      "source": [
        "# Weather API Key\n"
      ],
      "outputs": [],
      "execution_count": null,
      "metadata": {
        "collapsed": true
      }
    },
    {
      "cell_type": "code",
      "source": [
        "# Create a function that gets the weather in London and Tweets it\n",
        "def WeatherTweet():\n",
        "\n",
        "    # Construct a Query URL for the OpenWeatherMap\n",
        "    url = \"http://api.openweathermap.org/data/2.5/weather?\"\n",
        "    city = \"London\"\n",
        "    units = \"imperial\"\n",
        "    query_url = url + \"appid=\" + api_key + \"&q=\" + city + \"&units=\" + units\n",
        "\n",
        "    # Perform the API call to get the weather\n",
        "\n\n",
        "    # Twitter credentials\n",
        "\n\n",
        "    # Tweet the weather\n",
        "\n\n",
        "    # Print success message\n"
      ],
      "outputs": [],
      "execution_count": null,
      "metadata": {
        "collapsed": true
      }
    },
    {
      "cell_type": "code",
      "source": [
        "# Set timer to run every 1 hour\n"
      ],
      "outputs": [],
      "execution_count": null,
      "metadata": {
        "collapsed": true
      }
    },
    {
      "cell_type": "code",
      "source": [],
      "outputs": [],
      "execution_count": null,
      "metadata": {
        "collapsed": true
      }
    }
  ],
  "metadata": {
    "kernelspec": {
      "display_name": "Python [conda env:anaconda]",
      "language": "python",
      "name": "conda-env-anaconda-py"
    },
    "language_info": {
      "codemirror_mode": {
        "name": "ipython",
        "version": 3
      },
      "file_extension": ".py",
      "mimetype": "text/x-python",
      "name": "python",
      "nbconvert_exporter": "python",
      "pygments_lexer": "ipython3",
      "version": "3.5.5"
    },
    "nteract": {
      "version": "0.8.4"
    }
  },
  "nbformat": 4,
  "nbformat_minor": 2
}