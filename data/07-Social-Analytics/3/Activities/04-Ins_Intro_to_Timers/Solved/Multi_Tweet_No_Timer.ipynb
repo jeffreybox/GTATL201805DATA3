{
  "cells": [
    {
      "cell_type": "code",
      "source": [
        "# Dependencies\n",
        "import tweepy\n",
        "import json\n",
        "from config import consumer_key, consumer_secret, access_token, access_token_secret"
      ],
      "outputs": [],
      "execution_count": null,
      "metadata": {
        "collapsed": true
      }
    },
    {
      "cell_type": "code",
      "source": [
        "# Twitter API Keys\n",
        "consumer_key = consumer_key\n",
        "consumer_secret = consumer_secret\n",
        "access_token = access_token\n",
        "access_token_secret = access_token_secret"
      ],
      "outputs": [],
      "execution_count": null,
      "metadata": {
        "collapsed": true
      }
    },
    {
      "cell_type": "code",
      "source": [
        "# Setup Tweepy API Authentication\n",
        "auth = tweepy.OAuthHandler(consumer_key, consumer_secret)\n",
        "auth.set_access_token(access_token, access_token_secret)\n",
        "api = tweepy.API(auth, parser=tweepy.parsers.JSONParser())"
      ],
      "outputs": [],
      "execution_count": null,
      "metadata": {
        "collapsed": true
      }
    },
    {
      "cell_type": "code",
      "source": [
        "# Create a for loop that tweets 5 tweets\n",
        "for x in range(5):\n",
        "    print(\"Iteration #\", str(x+1))\n",
        "    api.update_status(\"Hey! This is tweet #%s\" % x)"
      ],
      "outputs": [],
      "execution_count": null,
      "metadata": {}
    },
    {
      "cell_type": "code",
      "source": [],
      "outputs": [],
      "execution_count": null,
      "metadata": {
        "collapsed": true
      }
    }
  ],
  "metadata": {
    "kernelspec": {
      "display_name": "Python [conda env:py36]",
      "language": "python",
      "name": "conda-env-py36-py"
    },
    "language_info": {
      "codemirror_mode": {
        "name": "ipython",
        "version": 3
      },
      "file_extension": ".py",
      "mimetype": "text/x-python",
      "name": "python",
      "nbconvert_exporter": "python",
      "pygments_lexer": "ipython3",
      "version": "3.6.0"
    },
    "nteract": {
      "version": "0.8.4"
    }
  },
  "nbformat": 4,
  "nbformat_minor": 2
}