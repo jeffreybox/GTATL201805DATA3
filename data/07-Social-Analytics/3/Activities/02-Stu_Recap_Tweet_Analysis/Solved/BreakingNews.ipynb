{
  "cells": [
    {
      "cell_type": "code",
      "source": [
        "# Dependencies\n",
        "import tweepy\n",
        "import json\n",
        "import numpy as np\n",
        "from config import consumer_key, consumer_secret, access_token, access_token_secret"
      ],
      "outputs": [],
      "execution_count": 1,
      "metadata": {
        "collapsed": true
      }
    },
    {
      "cell_type": "code",
      "source": [
        "# Import and Initialize Sentiment Analyzer\n",
        "from vaderSentiment.vaderSentiment import SentimentIntensityAnalyzer\n",
        "analyzer = SentimentIntensityAnalyzer()"
      ],
      "outputs": [],
      "execution_count": 2,
      "metadata": {
        "collapsed": true
      }
    },
    {
      "cell_type": "code",
      "source": [
        "# Twitter API Keys\n",
        "consumer_key = consumer_key\n",
        "consumer_secret = consumer_secret\n",
        "access_token = access_token\n",
        "access_token_secret = access_token_secret"
      ],
      "outputs": [],
      "execution_count": 3,
      "metadata": {
        "collapsed": true
      }
    },
    {
      "cell_type": "code",
      "source": [
        "# Setup Tweepy API Authentication\n",
        "auth = tweepy.OAuthHandler(consumer_key, consumer_secret)\n",
        "auth.set_access_token(access_token, access_token_secret)\n",
        "api = tweepy.API(auth, parser=tweepy.parsers.JSONParser())"
      ],
      "outputs": [],
      "execution_count": 4,
      "metadata": {
        "collapsed": true
      }
    },
    {
      "cell_type": "code",
      "source": [
        "# Target Search Term\n",
        "target_term = \"@CNNbrk\""
      ],
      "outputs": [],
      "execution_count": 5,
      "metadata": {
        "collapsed": true
      }
    },
    {
      "cell_type": "code",
      "source": [
        "# Lists to hold sentiments\n",
        "compound_list = []\n",
        "positive_list = []\n",
        "negative_list = []\n",
        "neutral_list = []"
      ],
      "outputs": [],
      "execution_count": 6,
      "metadata": {
        "collapsed": true
      }
    },
    {
      "cell_type": "code",
      "source": [
        "# Grab 25 tweets\n",
        "public_tweets = api.search(target_term, count=25, result_type=\"recent\")"
      ],
      "outputs": [],
      "execution_count": 7,
      "metadata": {
        "collapsed": true
      }
    },
    {
      "cell_type": "code",
      "source": [
        "# Loop through all tweets\n",
        "for tweet in public_tweets[\"statuses\"]:\n",
        "\n",
        "    # Run Vader Analysis on each tweet\n",
        "    compound = analyzer.polarity_scores(tweet[\"text\"])[\"compound\"]\n",
        "    pos = analyzer.polarity_scores(tweet[\"text\"])[\"pos\"]\n",
        "    neu = analyzer.polarity_scores(tweet[\"text\"])[\"neu\"]\n",
        "    neg = analyzer.polarity_scores(tweet[\"text\"])[\"neg\"]\n",
        "\n",
        "    # Add each value to the appropriate array\n",
        "    compound_list.append(compound)\n",
        "    positive_list.append(pos)\n",
        "    negative_list.append(neg)\n",
        "    neutral_list.append(neu)"
      ],
      "outputs": [],
      "execution_count": 8,
      "metadata": {
        "collapsed": true
      }
    },
    {
      "cell_type": "code",
      "source": [
        "# Store the Average Sentiments\n",
        "sentiment = {\"Compound\": np.mean(compound_list),\n",
        "             \"Positive\": np.mean(positive_list),\n",
        "             \"Neutral\": np.mean(negative_list),\n",
        "             \"Negative\": np.mean(neutral_list)}"
      ],
      "outputs": [],
      "execution_count": 9,
      "metadata": {
        "collapsed": true
      }
    },
    {
      "cell_type": "code",
      "source": [
        "# Print the Sentiments\n",
        "print(sentiment)\n",
        "print(\"\")"
      ],
      "outputs": [
        {
          "output_type": "stream",
          "name": "stdout",
          "text": [
            "{'Compound': -0.14210800000000001, 'Positive': 0.048320000000000009, 'Neutral': 0.088079999999999992, 'Negative': 0.86360000000000003}\n",
            "\n"
          ]
        }
      ],
      "execution_count": 10,
      "metadata": {}
    },
    {
      "cell_type": "code",
      "source": [],
      "outputs": [],
      "execution_count": null,
      "metadata": {
        "collapsed": true
      }
    }
  ],
  "metadata": {
    "kernelspec": {
      "display_name": "Python [conda env:py36]",
      "language": "python",
      "name": "conda-env-py36-py"
    },
    "language_info": {
      "codemirror_mode": {
        "name": "ipython",
        "version": 3
      },
      "file_extension": ".py",
      "mimetype": "text/x-python",
      "name": "python",
      "nbconvert_exporter": "python",
      "pygments_lexer": "ipython3",
      "version": "3.6.0"
    },
    "nteract": {
      "version": "0.8.4"
    }
  },
  "nbformat": 4,
  "nbformat_minor": 2
}