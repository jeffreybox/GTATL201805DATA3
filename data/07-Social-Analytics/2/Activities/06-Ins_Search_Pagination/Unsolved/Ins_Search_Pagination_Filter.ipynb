{
 "cells": [
  {
   "cell_type": "code",
   "execution_count": null,
   "metadata": {
    "collapsed": true
   },
   "outputs": [],
   "source": [
    "# Dependencies\n",
    "import tweepy\n",
    "\n",
    "# Twitter API Keys\n",
    "from config import (consumer_key, \n",
    "                    consumer_secret, \n",
    "                    access_token, \n",
    "                    access_token_secret)\n",
    "\n",
    "# Setup Tweepy API Authentication\n",
    "auth = tweepy.OAuthHandler(consumer_key, consumer_secret)\n",
    "auth.set_access_token(access_token, access_token_secret)\n",
    "api = tweepy.API(auth, parser=tweepy.parsers.JSONParser())"
   ]
  },
  {
   "cell_type": "code",
   "execution_count": null,
   "metadata": {
    "collapsed": true
   },
   "outputs": [],
   "source": [
    "# \"Real Person\" Filters"
   ]
  },
  {
   "cell_type": "code",
   "execution_count": null,
   "metadata": {},
   "outputs": [],
   "source": [
    "# Search for People Tweeting about Mark Hamill\n",
    "search_term = \"Mark Hamill\"\n",
    "\n",
    "# Create variable for holding the oldest tweet\n",
    "oldest_tweet = None\n",
    "\n",
    "# List to hold unique IDs\n",
    "unique_ids = []\n",
    "\n",
    "# Counter to keep track of the number of tweets retrieved\n",
    "counter = 0\n",
    "\n",
    "# Loop through 5 times (total of 500 tweets)\n",
    "for x in range(5):\n",
    "\n",
    "    # Retrieve 100 most recent tweets -- specifying a max_id\n",
    "    public_tweets = api.search(search_term, \n",
    "                               count=100, \n",
    "                               result_type=\"recent\", \n",
    "                               max_id=oldest_tweet)\n",
    "\n",
    "    # Print Tweets\n",
    "    for tweet in public_tweets[\"statuses\"]:\n",
    "        \n",
    "        # save tweet id\n",
    "        # YOUR CODE HERE\n",
    "        \n",
    "        # Use filters to check if user meets conditions\n",
    "        # YOUR CODE HERE\n",
    "\n",
    "            # Print the username\n",
    "            print(tweet[\"user\"][\"screen_name\"])\n",
    "\n",
    "            # Print the tweet id\n",
    "            print(tweet[\"id_str\"])\n",
    "\n",
    "            # Print the tweet text\n",
    "            print(tweet[\"text\"])\n",
    "            print()\n",
    "\n",
    "            # Append tweet_id to ids list if it doesn't already exist\n",
    "            # This allows checking for duplicate tweets\n",
    "            # YOUR CODE HERE\n",
    "            \n",
    "            # Increase counter by 1\n",
    "            counter += 1\n",
    "\n",
    "        # Reassign the the oldest tweet (i.e. the max_id)\n",
    "        # Subtract 1 so the previous oldest isn't included\n",
    "        # in the new search\n",
    "        # YOUR CODE HERE\n",
    "        "
   ]
  },
  {
   "cell_type": "code",
   "execution_count": null,
   "metadata": {},
   "outputs": [],
   "source": [
    "# Print total number of tweets retrieved\n",
    "print(counter)"
   ]
  },
  {
   "cell_type": "code",
   "execution_count": null,
   "metadata": {},
   "outputs": [],
   "source": [
    "# Print the number of unique ids retrieved\n",
    "print(len(unique_ids))"
   ]
  }
 ],
 "metadata": {
  "kernelspec": {
   "display_name": "Python [conda env:PythonData]",
   "language": "python",
   "name": "conda-env-PythonData-py"
  },
  "language_info": {
   "codemirror_mode": {
    "name": "ipython",
    "version": 3
   },
   "file_extension": ".py",
   "mimetype": "text/x-python",
   "name": "python",
   "nbconvert_exporter": "python",
   "pygments_lexer": "ipython3",
   "version": "3.6.1"
  },
  "varInspector": {
   "cols": {
    "lenName": 16,
    "lenType": 16,
    "lenVar": 40
   },
   "kernels_config": {
    "python": {
     "delete_cmd_postfix": "",
     "delete_cmd_prefix": "del ",
     "library": "var_list.py",
     "varRefreshCmd": "print(var_dic_list())"
    },
    "r": {
     "delete_cmd_postfix": ") ",
     "delete_cmd_prefix": "rm(",
     "library": "var_list.r",
     "varRefreshCmd": "cat(var_dic_list()) "
    }
   },
   "types_to_exclude": [
    "module",
    "function",
    "builtin_function_or_method",
    "instance",
    "_Feature"
   ],
   "window_display": false
  }
 },
 "nbformat": 4,
 "nbformat_minor": 2
}
